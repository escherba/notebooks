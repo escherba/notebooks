{
 "cells": [
  {
   "cell_type": "markdown",
   "id": "b4cdcd83-3dc7-4272-aa00-1a16be397f93",
   "metadata": {},
   "source": [
    "---\n",
    "title: Quick Introduction to Bootstrap\n",
    "author: Eugene Scherba\n",
    "date: April 1, 2023\n",
    "---"
   ]
  },
  {
   "cell_type": "markdown",
   "id": "500ce370-4756-461b-bd00-d43b821c9ce0",
   "metadata": {},
   "source": [
    "# Data overview"
   ]
  },
  {
   "cell_type": "code",
   "execution_count": 1,
   "id": "e8e8c137-a5fc-4af0-a1ed-53de98e7d0c3",
   "metadata": {},
   "outputs": [],
   "source": [
    "import numpy as np\n",
    "import pandas as pd\n",
    "from matplotlib import pyplot as plt\n",
    "from scipy.stats import poisson\n",
    "from tqdm.notebook import tqdm as progress_bar"
   ]
  },
  {
   "cell_type": "code",
   "execution_count": 2,
   "id": "fed10233-7884-4286-8248-c8464e260025",
   "metadata": {},
   "outputs": [],
   "source": [
    "df = pd.read_csv(\"horse_kicks.csv\")\n",
    "df.set_index(\"Year\", inplace=True)"
   ]
  },
  {
   "cell_type": "code",
   "execution_count": 3,
   "id": "c8532dd5-86f8-4ec0-b62a-540151a1a630",
   "metadata": {},
   "outputs": [
    {
     "data": {
      "text/html": [
       "<div>\n",
       "<style scoped>\n",
       "    .dataframe tbody tr th:only-of-type {\n",
       "        vertical-align: middle;\n",
       "    }\n",
       "\n",
       "    .dataframe tbody tr th {\n",
       "        vertical-align: top;\n",
       "    }\n",
       "\n",
       "    .dataframe thead th {\n",
       "        text-align: right;\n",
       "    }\n",
       "</style>\n",
       "<table border=\"1\" class=\"dataframe\">\n",
       "  <thead>\n",
       "    <tr style=\"text-align: right;\">\n",
       "      <th></th>\n",
       "      <th>GC</th>\n",
       "      <th>C1</th>\n",
       "      <th>C2</th>\n",
       "      <th>C3</th>\n",
       "      <th>C4</th>\n",
       "      <th>C5</th>\n",
       "      <th>C6</th>\n",
       "      <th>C7</th>\n",
       "      <th>C8</th>\n",
       "      <th>C9</th>\n",
       "      <th>C10</th>\n",
       "      <th>C11</th>\n",
       "      <th>C14</th>\n",
       "      <th>C15</th>\n",
       "    </tr>\n",
       "    <tr>\n",
       "      <th>Year</th>\n",
       "      <th></th>\n",
       "      <th></th>\n",
       "      <th></th>\n",
       "      <th></th>\n",
       "      <th></th>\n",
       "      <th></th>\n",
       "      <th></th>\n",
       "      <th></th>\n",
       "      <th></th>\n",
       "      <th></th>\n",
       "      <th></th>\n",
       "      <th></th>\n",
       "      <th></th>\n",
       "      <th></th>\n",
       "    </tr>\n",
       "  </thead>\n",
       "  <tbody>\n",
       "    <tr>\n",
       "      <th>1875</th>\n",
       "      <td>0</td>\n",
       "      <td>0</td>\n",
       "      <td>0</td>\n",
       "      <td>0</td>\n",
       "      <td>0</td>\n",
       "      <td>0</td>\n",
       "      <td>0</td>\n",
       "      <td>1</td>\n",
       "      <td>1</td>\n",
       "      <td>0</td>\n",
       "      <td>0</td>\n",
       "      <td>0</td>\n",
       "      <td>1</td>\n",
       "      <td>0</td>\n",
       "    </tr>\n",
       "    <tr>\n",
       "      <th>1876</th>\n",
       "      <td>2</td>\n",
       "      <td>0</td>\n",
       "      <td>0</td>\n",
       "      <td>0</td>\n",
       "      <td>1</td>\n",
       "      <td>0</td>\n",
       "      <td>0</td>\n",
       "      <td>0</td>\n",
       "      <td>0</td>\n",
       "      <td>0</td>\n",
       "      <td>0</td>\n",
       "      <td>0</td>\n",
       "      <td>1</td>\n",
       "      <td>1</td>\n",
       "    </tr>\n",
       "    <tr>\n",
       "      <th>1877</th>\n",
       "      <td>2</td>\n",
       "      <td>0</td>\n",
       "      <td>0</td>\n",
       "      <td>0</td>\n",
       "      <td>0</td>\n",
       "      <td>0</td>\n",
       "      <td>1</td>\n",
       "      <td>1</td>\n",
       "      <td>0</td>\n",
       "      <td>0</td>\n",
       "      <td>1</td>\n",
       "      <td>0</td>\n",
       "      <td>2</td>\n",
       "      <td>0</td>\n",
       "    </tr>\n",
       "    <tr>\n",
       "      <th>1878</th>\n",
       "      <td>1</td>\n",
       "      <td>2</td>\n",
       "      <td>2</td>\n",
       "      <td>1</td>\n",
       "      <td>1</td>\n",
       "      <td>0</td>\n",
       "      <td>0</td>\n",
       "      <td>0</td>\n",
       "      <td>0</td>\n",
       "      <td>0</td>\n",
       "      <td>1</td>\n",
       "      <td>0</td>\n",
       "      <td>1</td>\n",
       "      <td>0</td>\n",
       "    </tr>\n",
       "    <tr>\n",
       "      <th>1879</th>\n",
       "      <td>0</td>\n",
       "      <td>0</td>\n",
       "      <td>0</td>\n",
       "      <td>1</td>\n",
       "      <td>1</td>\n",
       "      <td>2</td>\n",
       "      <td>2</td>\n",
       "      <td>0</td>\n",
       "      <td>1</td>\n",
       "      <td>0</td>\n",
       "      <td>0</td>\n",
       "      <td>2</td>\n",
       "      <td>1</td>\n",
       "      <td>0</td>\n",
       "    </tr>\n",
       "    <tr>\n",
       "      <th>1880</th>\n",
       "      <td>0</td>\n",
       "      <td>3</td>\n",
       "      <td>2</td>\n",
       "      <td>1</td>\n",
       "      <td>1</td>\n",
       "      <td>1</td>\n",
       "      <td>0</td>\n",
       "      <td>0</td>\n",
       "      <td>0</td>\n",
       "      <td>2</td>\n",
       "      <td>1</td>\n",
       "      <td>4</td>\n",
       "      <td>3</td>\n",
       "      <td>0</td>\n",
       "    </tr>\n",
       "    <tr>\n",
       "      <th>1881</th>\n",
       "      <td>1</td>\n",
       "      <td>0</td>\n",
       "      <td>0</td>\n",
       "      <td>2</td>\n",
       "      <td>1</td>\n",
       "      <td>0</td>\n",
       "      <td>0</td>\n",
       "      <td>1</td>\n",
       "      <td>0</td>\n",
       "      <td>1</td>\n",
       "      <td>0</td>\n",
       "      <td>0</td>\n",
       "      <td>0</td>\n",
       "      <td>0</td>\n",
       "    </tr>\n",
       "    <tr>\n",
       "      <th>1882</th>\n",
       "      <td>1</td>\n",
       "      <td>2</td>\n",
       "      <td>0</td>\n",
       "      <td>0</td>\n",
       "      <td>0</td>\n",
       "      <td>0</td>\n",
       "      <td>1</td>\n",
       "      <td>0</td>\n",
       "      <td>1</td>\n",
       "      <td>1</td>\n",
       "      <td>2</td>\n",
       "      <td>1</td>\n",
       "      <td>4</td>\n",
       "      <td>1</td>\n",
       "    </tr>\n",
       "    <tr>\n",
       "      <th>1883</th>\n",
       "      <td>0</td>\n",
       "      <td>0</td>\n",
       "      <td>1</td>\n",
       "      <td>2</td>\n",
       "      <td>0</td>\n",
       "      <td>1</td>\n",
       "      <td>2</td>\n",
       "      <td>1</td>\n",
       "      <td>0</td>\n",
       "      <td>1</td>\n",
       "      <td>0</td>\n",
       "      <td>3</td>\n",
       "      <td>0</td>\n",
       "      <td>0</td>\n",
       "    </tr>\n",
       "    <tr>\n",
       "      <th>1884</th>\n",
       "      <td>3</td>\n",
       "      <td>0</td>\n",
       "      <td>1</td>\n",
       "      <td>0</td>\n",
       "      <td>0</td>\n",
       "      <td>0</td>\n",
       "      <td>0</td>\n",
       "      <td>1</td>\n",
       "      <td>0</td>\n",
       "      <td>0</td>\n",
       "      <td>2</td>\n",
       "      <td>0</td>\n",
       "      <td>1</td>\n",
       "      <td>1</td>\n",
       "    </tr>\n",
       "    <tr>\n",
       "      <th>1885</th>\n",
       "      <td>0</td>\n",
       "      <td>0</td>\n",
       "      <td>0</td>\n",
       "      <td>0</td>\n",
       "      <td>0</td>\n",
       "      <td>0</td>\n",
       "      <td>1</td>\n",
       "      <td>0</td>\n",
       "      <td>0</td>\n",
       "      <td>2</td>\n",
       "      <td>0</td>\n",
       "      <td>1</td>\n",
       "      <td>0</td>\n",
       "      <td>1</td>\n",
       "    </tr>\n",
       "    <tr>\n",
       "      <th>1886</th>\n",
       "      <td>2</td>\n",
       "      <td>1</td>\n",
       "      <td>0</td>\n",
       "      <td>0</td>\n",
       "      <td>1</td>\n",
       "      <td>1</td>\n",
       "      <td>1</td>\n",
       "      <td>0</td>\n",
       "      <td>0</td>\n",
       "      <td>1</td>\n",
       "      <td>0</td>\n",
       "      <td>1</td>\n",
       "      <td>3</td>\n",
       "      <td>0</td>\n",
       "    </tr>\n",
       "    <tr>\n",
       "      <th>1887</th>\n",
       "      <td>1</td>\n",
       "      <td>1</td>\n",
       "      <td>2</td>\n",
       "      <td>1</td>\n",
       "      <td>0</td>\n",
       "      <td>0</td>\n",
       "      <td>3</td>\n",
       "      <td>2</td>\n",
       "      <td>1</td>\n",
       "      <td>1</td>\n",
       "      <td>0</td>\n",
       "      <td>1</td>\n",
       "      <td>2</td>\n",
       "      <td>0</td>\n",
       "    </tr>\n",
       "    <tr>\n",
       "      <th>1888</th>\n",
       "      <td>0</td>\n",
       "      <td>1</td>\n",
       "      <td>1</td>\n",
       "      <td>0</td>\n",
       "      <td>0</td>\n",
       "      <td>1</td>\n",
       "      <td>1</td>\n",
       "      <td>0</td>\n",
       "      <td>0</td>\n",
       "      <td>0</td>\n",
       "      <td>0</td>\n",
       "      <td>1</td>\n",
       "      <td>1</td>\n",
       "      <td>0</td>\n",
       "    </tr>\n",
       "    <tr>\n",
       "      <th>1889</th>\n",
       "      <td>0</td>\n",
       "      <td>0</td>\n",
       "      <td>1</td>\n",
       "      <td>1</td>\n",
       "      <td>0</td>\n",
       "      <td>1</td>\n",
       "      <td>1</td>\n",
       "      <td>0</td>\n",
       "      <td>0</td>\n",
       "      <td>1</td>\n",
       "      <td>2</td>\n",
       "      <td>2</td>\n",
       "      <td>0</td>\n",
       "      <td>2</td>\n",
       "    </tr>\n",
       "    <tr>\n",
       "      <th>1890</th>\n",
       "      <td>1</td>\n",
       "      <td>2</td>\n",
       "      <td>0</td>\n",
       "      <td>2</td>\n",
       "      <td>0</td>\n",
       "      <td>1</td>\n",
       "      <td>1</td>\n",
       "      <td>2</td>\n",
       "      <td>0</td>\n",
       "      <td>2</td>\n",
       "      <td>1</td>\n",
       "      <td>1</td>\n",
       "      <td>2</td>\n",
       "      <td>2</td>\n",
       "    </tr>\n",
       "    <tr>\n",
       "      <th>1891</th>\n",
       "      <td>0</td>\n",
       "      <td>0</td>\n",
       "      <td>0</td>\n",
       "      <td>1</td>\n",
       "      <td>1</td>\n",
       "      <td>1</td>\n",
       "      <td>0</td>\n",
       "      <td>1</td>\n",
       "      <td>1</td>\n",
       "      <td>0</td>\n",
       "      <td>3</td>\n",
       "      <td>3</td>\n",
       "      <td>1</td>\n",
       "      <td>0</td>\n",
       "    </tr>\n",
       "    <tr>\n",
       "      <th>1892</th>\n",
       "      <td>1</td>\n",
       "      <td>3</td>\n",
       "      <td>2</td>\n",
       "      <td>0</td>\n",
       "      <td>1</td>\n",
       "      <td>1</td>\n",
       "      <td>3</td>\n",
       "      <td>0</td>\n",
       "      <td>1</td>\n",
       "      <td>1</td>\n",
       "      <td>0</td>\n",
       "      <td>1</td>\n",
       "      <td>1</td>\n",
       "      <td>0</td>\n",
       "    </tr>\n",
       "    <tr>\n",
       "      <th>1893</th>\n",
       "      <td>0</td>\n",
       "      <td>1</td>\n",
       "      <td>0</td>\n",
       "      <td>0</td>\n",
       "      <td>0</td>\n",
       "      <td>1</td>\n",
       "      <td>0</td>\n",
       "      <td>2</td>\n",
       "      <td>0</td>\n",
       "      <td>0</td>\n",
       "      <td>1</td>\n",
       "      <td>3</td>\n",
       "      <td>0</td>\n",
       "      <td>0</td>\n",
       "    </tr>\n",
       "    <tr>\n",
       "      <th>1894</th>\n",
       "      <td>1</td>\n",
       "      <td>0</td>\n",
       "      <td>0</td>\n",
       "      <td>0</td>\n",
       "      <td>0</td>\n",
       "      <td>0</td>\n",
       "      <td>0</td>\n",
       "      <td>0</td>\n",
       "      <td>1</td>\n",
       "      <td>0</td>\n",
       "      <td>1</td>\n",
       "      <td>1</td>\n",
       "      <td>0</td>\n",
       "      <td>0</td>\n",
       "    </tr>\n",
       "  </tbody>\n",
       "</table>\n",
       "</div>"
      ],
      "text/plain": [
       "      GC  C1  C2  C3  C4  C5  C6  C7  C8  C9  C10  C11  C14  C15\n",
       "Year                                                            \n",
       "1875   0   0   0   0   0   0   0   1   1   0    0    0    1    0\n",
       "1876   2   0   0   0   1   0   0   0   0   0    0    0    1    1\n",
       "1877   2   0   0   0   0   0   1   1   0   0    1    0    2    0\n",
       "1878   1   2   2   1   1   0   0   0   0   0    1    0    1    0\n",
       "1879   0   0   0   1   1   2   2   0   1   0    0    2    1    0\n",
       "1880   0   3   2   1   1   1   0   0   0   2    1    4    3    0\n",
       "1881   1   0   0   2   1   0   0   1   0   1    0    0    0    0\n",
       "1882   1   2   0   0   0   0   1   0   1   1    2    1    4    1\n",
       "1883   0   0   1   2   0   1   2   1   0   1    0    3    0    0\n",
       "1884   3   0   1   0   0   0   0   1   0   0    2    0    1    1\n",
       "1885   0   0   0   0   0   0   1   0   0   2    0    1    0    1\n",
       "1886   2   1   0   0   1   1   1   0   0   1    0    1    3    0\n",
       "1887   1   1   2   1   0   0   3   2   1   1    0    1    2    0\n",
       "1888   0   1   1   0   0   1   1   0   0   0    0    1    1    0\n",
       "1889   0   0   1   1   0   1   1   0   0   1    2    2    0    2\n",
       "1890   1   2   0   2   0   1   1   2   0   2    1    1    2    2\n",
       "1891   0   0   0   1   1   1   0   1   1   0    3    3    1    0\n",
       "1892   1   3   2   0   1   1   3   0   1   1    0    1    1    0\n",
       "1893   0   1   0   0   0   1   0   2   0   0    1    3    0    0\n",
       "1894   1   0   0   0   0   0   0   0   1   0    1    1    0    0"
      ]
     },
     "execution_count": 3,
     "metadata": {},
     "output_type": "execute_result"
    }
   ],
   "source": [
    "df"
   ]
  },
  {
   "cell_type": "markdown",
   "id": "fd2d4698-9348-49de-a6e1-cf14d80b6727",
   "metadata": {},
   "source": [
    "The columns correspond to different cavalry regiment. We are interested in the distribution of events per year per regiment."
   ]
  },
  {
   "cell_type": "code",
   "execution_count": 4,
   "id": "ea79bce5-218d-42fc-a734-0994007c5195",
   "metadata": {},
   "outputs": [],
   "source": [
    "_values = df.values.ravel()"
   ]
  },
  {
   "cell_type": "code",
   "execution_count": 5,
   "id": "bac3d56d-1f04-4296-a579-9ce3a11ccae3",
   "metadata": {},
   "outputs": [],
   "source": [
    "counts = pd.Series(_values).value_counts()"
   ]
  },
  {
   "cell_type": "code",
   "execution_count": 6,
   "id": "ba048efa-0e9e-45a9-b420-dfb77b1173eb",
   "metadata": {},
   "outputs": [
    {
     "data": {
      "image/png": "[encoded data removed]",
      "text/plain": [
       "<Figure size 640x480 with 1 Axes>"
      ]
     },
     "metadata": {},
     "output_type": "display_data"
    }
   ],
   "source": [
    "counts.plot.bar(\n",
    "    rot=0,\n",
    "    xlabel=\"number of deaths\",\n",
    "    ylabel=\"number of year * regiments\",\n",
    "    title=\"Deaths by horsekick in the Prussian army, 1875-1894\");"
   ]
  },
  {
   "cell_type": "markdown",
   "id": "9e45f0a3-ef37-470c-a20d-18ad84192f6a",
   "metadata": {},
   "source": [
    "# Poisson Modeling: Estimating Lambda"
   ]
  },
  {
   "cell_type": "markdown",
   "id": "ba76137a-dcc9-406a-b2c4-54cfb92a623e",
   "metadata": {},
   "source": [
    "## Maximum Likelihood Estimate: Simple mean"
   ]
  },
  {
   "cell_type": "markdown",
   "id": "59d79dd4-b95f-41d1-99d9-98ba25efe801",
   "metadata": {},
   "source": [
    "Poisson distribution is a famous asymmetric distribution with only one parameter: mean (labmda). By contrast, Gausssian distribition has two parameters (mean and variance). Under Poisson, however, mean is the same parameter as variance.\n",
    "\n",
    "While the Gaussian distribution is frequently used to model measurement uncertainty of real variables, Poisson distribution is used to model uncertainty of _counts of rare events_ (baseball home runs, frequency of all types of rare incidents, and so on)."
   ]
  },
  {
   "cell_type": "code",
   "execution_count": 7,
   "id": "27c0e0fd-a9a1-45db-ae3e-e10029afdc29",
   "metadata": {},
   "outputs": [],
   "source": [
    "lambda_hat = df.values.ravel().mean()"
   ]
  },
  {
   "cell_type": "code",
   "execution_count": 8,
   "id": "bc8b0ea2-875c-40b9-9cb8-54d32f9c1ff4",
   "metadata": {},
   "outputs": [
    {
     "data": {
      "text/plain": [
       "0.7"
      ]
     },
     "execution_count": 8,
     "metadata": {},
     "output_type": "execute_result"
    }
   ],
   "source": [
    "lambda_hat"
   ]
  },
  {
   "cell_type": "code",
   "execution_count": 9,
   "id": "f95a65f2-0d44-401f-ab91-b25318d1f791",
   "metadata": {},
   "outputs": [],
   "source": [
    "fitted = pd.Series(\n",
    "    poisson.pmf(counts.index, lambda_hat) * counts.sum(),\n",
    "    index=counts.index)"
   ]
  },
  {
   "cell_type": "code",
   "execution_count": 10,
   "id": "bb08316e-043f-4c49-a2ef-55102a994ad2",
   "metadata": {},
   "outputs": [
    {
     "data": {
      "image/png": "[encoded data removed]",
      "text/plain": [
       "<Figure size 640x480 with 1 Axes>"
      ]
     },
     "metadata": {},
     "output_type": "display_data"
    }
   ],
   "source": [
    "pd.DataFrame({\n",
    "    \"actual\": counts,\n",
    "    \"Poisson, lambda=0.7\": fitted,\n",
    "}).plot.bar(\n",
    "    rot=0,\n",
    "    xlabel=\"number of deaths\",\n",
    "    ylabel=\"number of year * regiments\",\n",
    "    title=\"Fitted vs Actual Distribution\", width=0.6);"
   ]
  },
  {
   "cell_type": "markdown",
   "id": "588a06be-ba51-4747-98ff-3c9d316044e1",
   "metadata": {},
   "source": [
    "This is useful because, for example, in case we find a regiment that had 5 kicks in a single yet, we could calculate the probability of that happening under Poisson distribution."
   ]
  },
  {
   "cell_type": "markdown",
   "id": "699548ec-d959-4c91-aad9-0859c640d10a",
   "metadata": {},
   "source": [
    "A skeptic may still be unhappy, however. \"But wait,\" he says, \"how do you know that your estimate of Lambda is correct? Afterall, everything here rests on that magical Lambda=0.7 which you derived from the data itself!\""
   ]
  },
  {
   "cell_type": "markdown",
   "id": "0a79d2af-4f13-45f0-9f7d-045ba702152b",
   "metadata": {},
   "source": [
    "# Estimating Uncertainty of Lambda-Hat"
   ]
  },
  {
   "cell_type": "markdown",
   "id": "9245bb5e-1d89-49e0-817d-a42a5588bbca",
   "metadata": {},
   "source": [
    "## Classical Boostrap: Discrete sampling with replacement"
   ]
  },
  {
   "cell_type": "code",
   "execution_count": 11,
   "id": "d2245a49-0ac7-441d-8a95-6d5fa6445b62",
   "metadata": {},
   "outputs": [
    {
     "data": {
      "application/vnd.jupyter.widget-view+json": {
       "model_id": "684f782d898e4296a6e9d4fc96b0b7aa",
       "version_major": 2,
       "version_minor": 0
      },
      "text/plain": [
       "  0%|          | 0/300000 [00:00<?, ?it/s]"
      ]
     },
     "metadata": {},
     "output_type": "display_data"
    }
   ],
   "source": [
    "estimates = []\n",
    "\n",
    "rng = np.random.default_rng(42)\n",
    "for _ in progress_bar(range(300000)):\n",
    "    values = rng.choice(_values, _values.size, replace=True)\n",
    "    estimates.append(values.mean())"
   ]
  },
  {
   "cell_type": "code",
   "execution_count": 12,
   "id": "63567b2f-2286-4ace-b15e-69ae2e0a5920",
   "metadata": {},
   "outputs": [
    {
     "data": {
      "image/png": "[encoded data removed]",
      "text/plain": [
       "<Figure size 640x480 with 1 Axes>"
      ]
     },
     "metadata": {},
     "output_type": "display_data"
    }
   ],
   "source": [
    "fig, ax = plt.subplots()\n",
    "ax.hist(estimates, bins=100, color=\"grey\");\n",
    "ax.set_ylabel(\"frequency\")\n",
    "ax.set_xlabel(\"lambda_hat\")\n",
    "ax.set_title(\"bootstrapped lambda estimates\")\n",
    "ax.axvline(lambda_hat, ls=\"--\", color=\"orange\");"
   ]
  },
  {
   "cell_type": "markdown",
   "id": "847583c1-927b-4058-a5f9-cdccbd4e0324",
   "metadata": {},
   "source": [
    "The jagged contour is a drawback of discrete sampling. There is likely here a \"true\" distribution that slightly higher than the solid bell but lower than the jagged one. Still, this is sufficient to infer that 95% bounds for Lambda-hat lie roughly between 0.6 and 0.8."
   ]
  },
  {
   "cell_type": "code",
   "execution_count": 13,
   "id": "200b69da-5cb7-426e-8701-ea24e759d86e",
   "metadata": {},
   "outputs": [
    {
     "data": {
      "image/png": "[encoded data removed]",
      "text/plain": [
       "<Figure size 640x480 with 1 Axes>"
      ]
     },
     "metadata": {},
     "output_type": "display_data"
    }
   ],
   "source": [
    "pd.DataFrame({\n",
    "    \"lambda=0.6\": pd.Series(poisson.pmf(counts.index, 0.6), index=counts.index),\n",
    "    \"lambda=0.7\": pd.Series(poisson.pmf(counts.index, 0.7), index=counts.index),\n",
    "    \"lambda=0.8\": pd.Series(poisson.pmf(counts.index, 0.8), index=counts.index),\n",
    "}).plot.bar(\n",
    "    rot=0,\n",
    "    xlabel=\"number of deaths\",\n",
    "    ylabel=\"fraction\",\n",
    "    title=\"Varying Poisson Lambda\", width=0.6, color=[\"C2\", \"C1\", \"C3\"]);"
   ]
  },
  {
   "cell_type": "markdown",
   "id": "f6ff16ed-189b-4d2c-ba7e-0bc4f7fd2bbd",
   "metadata": {},
   "source": [
    "## Bayesian Bootstrap: Continuous sampling via Dirichlet prior"
   ]
  },
  {
   "cell_type": "markdown",
   "id": "13607733-cd79-4ebc-a442-694fa37b73b1",
   "metadata": {},
   "source": [
    "### Typical usage"
   ]
  },
  {
   "cell_type": "code",
   "execution_count": 14,
   "id": "1935cef7-aaef-4d1f-8a67-9479f0cb7d8a",
   "metadata": {},
   "outputs": [
    {
     "data": {
      "application/vnd.jupyter.widget-view+json": {
       "model_id": "0810883496474b4c8b314ba874f13632",
       "version_major": 2,
       "version_minor": 0
      },
      "text/plain": [
       "  0%|          | 0/300000 [00:00<?, ?it/s]"
      ]
     },
     "metadata": {},
     "output_type": "display_data"
    }
   ],
   "source": [
    "estimates = []\n",
    "\n",
    "alpha_scale = 1.\n",
    "rng = np.random.default_rng(42)\n",
    "for _ in progress_bar(range(300000)):\n",
    "    num_samples = _values.size\n",
    "    sample_weight = np.ones(num_samples)\n",
    "    denom = sample_weight.sum()\n",
    "    alpha = sample_weight * (num_samples * alpha_scale / denom)\n",
    "    sample_weight = rng.dirichlet(alpha, size=1)[0]\n",
    "    values = sample_weight * _values * denom\n",
    "    estimates.append(values.mean())"
   ]
  },
  {
   "cell_type": "code",
   "execution_count": 15,
   "id": "b4295634-0b6d-463f-a424-f1d1e742d3d6",
   "metadata": {},
   "outputs": [
    {
     "data": {
      "image/png": "[encoded data removed]",
      "text/plain": [
       "<Figure size 640x480 with 1 Axes>"
      ]
     },
     "metadata": {},
     "output_type": "display_data"
    }
   ],
   "source": [
    "fig, ax = plt.subplots()\n",
    "ax.hist(estimates, bins=100, color=\"grey\");\n",
    "ax.set_title(\"bootstrapped lambda estimates\")\n",
    "ax.set_ylabel(\"frequency\")\n",
    "ax.set_xlabel(\"lambda_hat\")\n",
    "ax.axvline(lambda_hat, ls=\"--\", color=\"orange\");"
   ]
  },
  {
   "cell_type": "markdown",
   "id": "b9b4320f-0194-4439-bbff-7961ab87f769",
   "metadata": {},
   "source": [
    "Impressively, Bayesian sampling gets rid of the jagged contour entirely."
   ]
  },
  {
   "cell_type": "markdown",
   "id": "6c89110d-6b61-4502-b019-e1a1456eee2b",
   "metadata": {},
   "source": [
    "### Modeling increased uncertainty"
   ]
  },
  {
   "cell_type": "markdown",
   "id": "8442069c-cef0-4300-aad4-f542d7baf354",
   "metadata": {},
   "source": [
    "This can be achieved by decreasing alpha_scale parameter"
   ]
  },
  {
   "cell_type": "code",
   "execution_count": 16,
   "id": "ae8338f3-1e4b-4b4b-9db8-7c5ded4d895b",
   "metadata": {},
   "outputs": [
    {
     "data": {
      "application/vnd.jupyter.widget-view+json": {
       "model_id": "32568bc0804a4c77beac41bf0001c640",
       "version_major": 2,
       "version_minor": 0
      },
      "text/plain": [
       "  0%|          | 0/300000 [00:00<?, ?it/s]"
      ]
     },
     "metadata": {},
     "output_type": "display_data"
    }
   ],
   "source": [
    "estimates = []\n",
    "\n",
    "alpha_scale = 0.025\n",
    "rng = np.random.default_rng(42)\n",
    "for _ in progress_bar(range(300000)):\n",
    "    num_samples = _values.size\n",
    "    sample_weight = np.ones(num_samples)\n",
    "    denom = sample_weight.sum()\n",
    "    alpha = sample_weight * (num_samples * alpha_scale / denom)\n",
    "    sample_weight = rng.dirichlet(alpha, size=1)[0]\n",
    "    values = sample_weight * _values * denom\n",
    "    estimates.append(values.mean())"
   ]
  },
  {
   "cell_type": "code",
   "execution_count": 17,
   "id": "eeba1b94-e076-448f-82f5-da42e66ad142",
   "metadata": {},
   "outputs": [
    {
     "data": {
      "image/png": "[encoded data removed]",
      "text/plain": [
       "<Figure size 640x480 with 1 Axes>"
      ]
     },
     "metadata": {},
     "output_type": "display_data"
    }
   ],
   "source": [
    "fig, ax = plt.subplots()\n",
    "ax.hist(estimates, bins=100, color=\"grey\");\n",
    "ax.set_title(\"bootstrapped lambda estimates\")\n",
    "ax.set_ylabel(\"frequency\")\n",
    "ax.set_xlabel(\"lambda_hat\")\n",
    "ax.axvline(lambda_hat, ls=\"--\", color=\"orange\");"
   ]
  },
  {
   "cell_type": "markdown",
   "id": "7b06b8de-75ad-447b-999f-a564cce2ee74",
   "metadata": {},
   "source": [
    "Lowering the alpha simulates higher sampling uncertainty. It is interesting to note that the bootstrap distribution becomes asymmetric. On the other hand, increasing the alpha simulates lower sampling uncertainty, and the bootstrap distribution remains symmetric, although becomes much more narrow (with higher kurtosis)."
   ]
  },
  {
   "cell_type": "code",
   "execution_count": null,
   "id": "77d20d89-041f-44bd-b2fd-6f41ed6a1bc5",
   "metadata": {},
   "outputs": [],
   "source": []
  }
 ],
 "metadata": {
  "kernelspec": {
   "display_name": "Python 3 (ipykernel)",
   "language": "python",
   "name": "python3"
  },
  "language_info": {
   "codemirror_mode": {
    "name": "ipython",
    "version": 3
   },
   "file_extension": ".py",
   "mimetype": "text/x-python",
   "name": "python",
   "nbconvert_exporter": "python",
   "pygments_lexer": "ipython3",
   "version": "3.9.15"
  }
 },
 "nbformat": 4,
 "nbformat_minor": 5
}
